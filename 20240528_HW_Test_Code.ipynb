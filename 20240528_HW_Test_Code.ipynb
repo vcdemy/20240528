{
 "cells": [
  {
   "cell_type": "code",
   "execution_count": 1,
   "id": "e45d5aa7-25cc-4a13-99c7-ae5cfa6c280f",
   "metadata": {},
   "outputs": [],
   "source": [
    "from ultralytics import YOLO"
   ]
  },
  {
   "cell_type": "code",
   "execution_count": 2,
   "id": "dc602ea4-0816-4041-a981-f99ab1e61b9c",
   "metadata": {},
   "outputs": [],
   "source": [
    "model = YOLO('masks.pt')"
   ]
  },
  {
   "cell_type": "code",
   "execution_count": 3,
   "id": "351b4bca-876e-4416-aa86-a930cd3bec30",
   "metadata": {},
   "outputs": [],
   "source": [
    "import gradio as gr"
   ]
  },
  {
   "cell_type": "code",
   "execution_count": 9,
   "id": "a55a7a9c-760c-45a1-a9d8-f59b30a484fc",
   "metadata": {},
   "outputs": [],
   "source": [
    "import cv2\n",
    "\n",
    "def process(image):\n",
    "    result = model(image)\n",
    "    for box in result[0].boxes.data:\n",
    "        x1, y1, x2, y2, conf, cls = box\n",
    "        x1, y1, x2, y2 = int(x1), int(y1), int(x2), int(y2)\n",
    "        label = f'{result[0].names[int(cls)]} {conf:.2f}'\n",
    "        # 繪製矩形框\n",
    "        cv2.rectangle(image, (x1, y1), (x2, y2), (0, 255, 0), 2)\n",
    "        cv2.putText(image, label, (x1, y1 - 10), cv2.FONT_HERSHEY_SIMPLEX, 0.5, (0, 255, 0), 2)\n",
    "    return image"
   ]
  },
  {
   "cell_type": "code",
   "execution_count": 11,
   "id": "8f565ec4-7204-49de-a457-39c5832cb816",
   "metadata": {},
   "outputs": [
    {
     "name": "stdout",
     "output_type": "stream",
     "text": [
      "Running on local URL:  http://127.0.0.1:7863\n",
      "\n",
      "To create a public link, set `share=True` in `launch()`.\n"
     ]
    },
    {
     "data": {
      "text/html": [
       "<div><iframe src=\"http://127.0.0.1:7863/\" width=\"100%\" height=\"500\" allow=\"autoplay; camera; microphone; clipboard-read; clipboard-write;\" frameborder=\"0\" allowfullscreen></iframe></div>"
      ],
      "text/plain": [
       "<IPython.core.display.HTML object>"
      ]
     },
     "metadata": {},
     "output_type": "display_data"
    },
    {
     "data": {
      "text/plain": []
     },
     "execution_count": 11,
     "metadata": {},
     "output_type": "execute_result"
    },
    {
     "name": "stdout",
     "output_type": "stream",
     "text": [
      "\n",
      "0: 384x640 1 Mask, 535.5ms\n",
      "Speed: 16.1ms preprocess, 535.5ms inference, 1.5ms postprocess per image at shape (1, 3, 384, 640)\n",
      "\n",
      "0: 384x640 1 NoMask, 1 Incorrect, 258.0ms\n",
      "Speed: 7.5ms preprocess, 258.0ms inference, 4.0ms postprocess per image at shape (1, 3, 384, 640)\n",
      "\n",
      "0: 384x640 1 NoMask, 198.2ms\n",
      "Speed: 9.3ms preprocess, 198.2ms inference, 3.5ms postprocess per image at shape (1, 3, 384, 640)\n"
     ]
    }
   ],
   "source": [
    "gr.Interface(process, \"image\", \"image\").launch()"
   ]
  },
  {
   "cell_type": "code",
   "execution_count": null,
   "id": "353b81f1-5d3e-43d8-a8ae-6b2f5aad5632",
   "metadata": {},
   "outputs": [],
   "source": []
  }
 ],
 "metadata": {
  "kernelspec": {
   "display_name": "Python 3 (ipykernel)",
   "language": "python",
   "name": "python3"
  },
  "language_info": {
   "codemirror_mode": {
    "name": "ipython",
    "version": 3
   },
   "file_extension": ".py",
   "mimetype": "text/x-python",
   "name": "python",
   "nbconvert_exporter": "python",
   "pygments_lexer": "ipython3",
   "version": "3.10.14"
  }
 },
 "nbformat": 4,
 "nbformat_minor": 5
}
